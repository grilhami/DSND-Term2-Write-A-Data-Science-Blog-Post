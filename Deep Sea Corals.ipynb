{
 "cells": [
  {
   "cell_type": "markdown",
   "metadata": {},
   "source": [
    "# Deep Sea Corals\n",
    "## Coral Records from NOAA’s Deep-Sea Coral Research and Technology Program\n",
    "\n",
    "<table>\n",
    "<tr>\n",
    "    <td> <img src=\"images/NOAA_Flag.svg \" alt=\"Photo by Q.U.I on Unsplash\" style=\"height:300px\"> </td>\n",
    "    <td> <img src=\"images/q-u-i-0G01UI1MQhg-unsplash.jpg\" style=\"height:300px\"> </td>\n",
    "</tr>\n",
    "</table>\n",
    "\n",
    "### Context\n",
    "\n",
    "This dataset contains information about deep sea corals and sponges collected by NOAA and NOAA’s partners. Amongst the data are geo locations of deep sea corals and sponges and the whole thing is tailored to the occurrences of azooxanthellates - a subset of all corals and all sponge species (i.e. they don't have symbiotic relationships with certain microbes). Additionally, these records only consists of observations deeper than 50 meters to truly focus on the deep sea corals and sponges.\n",
    "\n",
    "### Content\n",
    "\n",
    "Column descriptions:\n",
    "\n",
    "- CatalogNumber: Unique record identifier assigned by the Deep-Sea Coral Research and Technology Program.\n",
    "- DataProvider: The institution, publication, or individual who ultimately deserves credit for acquiring or aggregating the data and making it available.\n",
    "- ScientificName: Taxonomic identification of the sample as a Latin binomial.\n",
    "- VernacularNameCategory: Common (vernacular) name category of the organism.\n",
    "- TaxonRank: Identifies the level in the taxonomic hierarchy of the ScientificName term.\n",
    "- ObservationDate: Time as hh:mm:ss when the sample/observation occurred (UTC).\n",
    "- Latitude (degrees North): Latitude in decimal degrees where the sample or observation was collected.\n",
    "- Longitude (degrees East): Longitude in decimal degrees where the sample or observation was collected.\n",
    "- DepthInMeters: Best single depth value for sample as a positive value in meters.\n",
    "- DepthMethod: Method by which best singular depth in meters (DepthInMeters) was determined. \"Averaged\" when start and stop depths were averaged. \"Assigned\" when depth was derived from bathymetry at the location. \"Reported\" when depth was reported based on instrumentation or described in literature.\n",
    "- Locality: A specific named place or named feature of origin for the specimen or observation (e.g., Dixon Entrance, Diaphus Bank, or Sur Ridge). Multiple locality names can be separated by a semicolon, arranged in a list from largest to smallest area (e.g., Gulf of Mexico; West Florida Shelf, Pulley Ridge).\n",
    "- IdentificationQualifier: Taxonomic identification method and level of expertise. Examples: “genetic ID”; “morphological ID from sample by taxonomic expert”; “ID by expert from image”; “ID by non-expert from video”; etc.\n",
    "- SamplingEquipment: Method of data collection. Examples: ROV, submersible, towed camera, SCUBA, etc.\n",
    "- RecordType: Denotes the origin and type of record. published literature (\"literature\"); a collected specimen (\"specimen\"); observation from a still image (\"still image\"); observation from video (\"video observation\"); notation without a specimen or image (\"notation\"); or observation from trawl surveys, longline surveys, and/or observer records (\"catch record\")."
   ]
  },
  {
   "cell_type": "markdown",
   "metadata": {},
   "source": [
    "## Business Understanding"
   ]
  },
  {
   "cell_type": "markdown",
   "metadata": {},
   "source": [
    "**Main Goal**: Creatin a research costal resort for marince science. \n",
    "\n",
    "**Guading Questions**: \n",
    "\n",
    "1. Which part of the world has the most coral research activities?\n",
    "2. How diverse are coral reefs in certain areas?\n",
    "3. What kind of instrument is needed for doing coral research?\n",
    "4. Which institution/organization would be willing to be partners?"
   ]
  },
  {
   "cell_type": "markdown",
   "metadata": {},
   "source": [
    "## Data Understanding"
   ]
  },
  {
   "cell_type": "code",
   "execution_count": null,
   "metadata": {},
   "outputs": [],
   "source": [
    "import numpy as np\n",
    "import pandas as pd\n",
    "import chart_studio\n",
    "import chart_studio.plotly as py\n",
    "import plotly.graph_objects as go\n",
    "chart_studio.tools.set_credentials_file(username='grilhami123', api_key='iYyJdIjUQHtkNsT02gKr')"
   ]
  },
  {
   "cell_type": "markdown",
   "metadata": {},
   "source": [
    "### Load Data"
   ]
  },
  {
   "cell_type": "code",
   "execution_count": null,
   "metadata": {},
   "outputs": [],
   "source": [
    "df = pd.read_csv(\"deep_sea_corals.csv\")\n",
    "df = df.iloc[1:]"
   ]
  },
  {
   "cell_type": "markdown",
   "metadata": {},
   "source": [
    "### Explore Data"
   ]
  },
  {
   "cell_type": "code",
   "execution_count": null,
   "metadata": {
    "scrolled": true
   },
   "outputs": [],
   "source": [
    "df.head()"
   ]
  },
  {
   "cell_type": "code",
   "execution_count": null,
   "metadata": {},
   "outputs": [],
   "source": [
    "df.shape"
   ]
  },
  {
   "cell_type": "code",
   "execution_count": null,
   "metadata": {},
   "outputs": [],
   "source": [
    "df.columns"
   ]
  },
  {
   "cell_type": "code",
   "execution_count": null,
   "metadata": {},
   "outputs": [],
   "source": [
    "df.info()"
   ]
  },
  {
   "cell_type": "code",
   "execution_count": null,
   "metadata": {},
   "outputs": [],
   "source": [
    "df['longitude'] = pd.to_numeric(df['longitude'])\n",
    "df['latitude'] = pd.to_numeric(df['latitude'])\n",
    "df['ObservationDate'] = pd.to_datetime(df['ObservationDate'])"
   ]
  },
  {
   "cell_type": "code",
   "execution_count": null,
   "metadata": {},
   "outputs": [],
   "source": [
    "df.info()"
   ]
  },
  {
   "cell_type": "code",
   "execution_count": null,
   "metadata": {},
   "outputs": [],
   "source": [
    "df.describe()"
   ]
  },
  {
   "cell_type": "code",
   "execution_count": null,
   "metadata": {},
   "outputs": [],
   "source": [
    "df[df.DepthInMeters < 0].shape"
   ]
  },
  {
   "cell_type": "code",
   "execution_count": null,
   "metadata": {},
   "outputs": [],
   "source": [
    "df.isna().sum()"
   ]
  },
  {
   "cell_type": "code",
   "execution_count": null,
   "metadata": {},
   "outputs": [],
   "source": [
    "df.Repository.isna().sum()"
   ]
  },
  {
   "cell_type": "markdown",
   "metadata": {},
   "source": [
    "### 1. Which part of the world has the most coral research activities?"
   ]
  },
  {
   "cell_type": "code",
   "execution_count": null,
   "metadata": {},
   "outputs": [],
   "source": [
    "def general_location(location):\n",
    "    if \";\" in location:\n",
    "        general_loc = location.split(\";\")[0]\n",
    "        return general_loc\n",
    "    elif \",\" in location:\n",
    "        general_loc = location.split(\",\")[0]\n",
    "        return general_loc\n",
    "    else:\n",
    "        return location"
   ]
  },
  {
   "cell_type": "code",
   "execution_count": null,
   "metadata": {},
   "outputs": [],
   "source": [
    "from collections import Counter \n",
    "\n",
    "all_locations = df.Locality.astype(str).values.tolist()\n",
    "all_locations = list(map(general_location, all_locations))\n",
    "\n",
    "all_locations_count = Counter(all_locations)\n",
    "all_locations_count.most_common()"
   ]
  },
  {
   "cell_type": "code",
   "execution_count": null,
   "metadata": {},
   "outputs": [],
   "source": [
    "df['GeneralLocality'] = all_locations"
   ]
  },
  {
   "cell_type": "code",
   "execution_count": null,
   "metadata": {},
   "outputs": [],
   "source": [
    "values = df.GeneralLocality.value_counts(normalize=True).values.tolist()[1:]\n",
    "\n",
    "value_list = [value for value in values if value < 0.01]\n",
    "\n",
    "value_first_index = values.index(value_list[0])\n",
    "\n",
    "counts = df.GeneralLocality.value_counts().values.tolist()[1:][:value_first_index]\n",
    "locations = df.GeneralLocality.value_counts().index.tolist()[1:][:value_first_index]"
   ]
  },
  {
   "cell_type": "code",
   "execution_count": null,
   "metadata": {},
   "outputs": [],
   "source": [
    "fig = go.Figure(data=[go.Pie(labels=locations, values=counts)])\n",
    "fig.update_layout(\n",
    "        title = 'Coral Reef Observation Locations',\n",
    "    )\n",
    "py.plot(fig, filename = 'coral-reef-location-pie-chart', auto_open=True)\n",
    "\n",
    "# if you wish to display the chart in the notebook\n",
    "# comment the line above and uncomment below\n",
    "# fig.show()"
   ]
  },
  {
   "cell_type": "code",
   "execution_count": null,
   "metadata": {},
   "outputs": [],
   "source": [
    "location_df = df[df.GeneralLocality.isin(locations)]\n",
    "location_df.head()"
   ]
  },
  {
   "cell_type": "code",
   "execution_count": null,
   "metadata": {},
   "outputs": [],
   "source": [
    "location_df.shape"
   ]
  },
  {
   "cell_type": "code",
   "execution_count": null,
   "metadata": {},
   "outputs": [],
   "source": [
    "fig = go.Figure(data=go.Scattergeo(\n",
    "        lon = location_df.longitude,\n",
    "        lat = location_df.latitude,\n",
    "        text = location_df.Locality,\n",
    "        mode = 'markers',\n",
    "        ))\n",
    "\n",
    "fig.update_layout(\n",
    "        title = 'Coral Reef Observations in North America',\n",
    "        geo_scope='north america',\n",
    "    )\n",
    "fig.show()"
   ]
  },
  {
   "cell_type": "markdown",
   "metadata": {},
   "source": [
    "<img src=\"images/visualizations/Coral_Reef_Observations_in_North_America.png \">"
   ]
  },
  {
   "cell_type": "code",
   "execution_count": null,
   "metadata": {},
   "outputs": [],
   "source": [
    "nan_loc_df = df[df.GeneralLocality == 'nan']\n",
    "nan_loc_df.shape"
   ]
  },
  {
   "cell_type": "code",
   "execution_count": null,
   "metadata": {},
   "outputs": [],
   "source": [
    "fig = go.Figure(data=go.Scattergeo(\n",
    "        lon = nan_loc_df.longitude,\n",
    "        lat = nan_loc_df.latitude,\n",
    "        text = nan_loc_df.Locality,\n",
    "        mode = 'markers',\n",
    "        ))\n",
    "\n",
    "fig.update_layout(\n",
    "        title = 'Coral Reef Observations in Unknown Locations',\n",
    "        geo_scope='world',\n",
    "    )\n",
    "fig.show()"
   ]
  },
  {
   "cell_type": "markdown",
   "metadata": {},
   "source": [
    "<img src=\"images/visualizations/Coral_Reef_Observations_in_Unknown_Locations.png\">"
   ]
  },
  {
   "cell_type": "markdown",
   "metadata": {},
   "source": [
    "### How diverse are coral reefs in certain areas?"
   ]
  },
  {
   "cell_type": "code",
   "execution_count": null,
   "metadata": {},
   "outputs": [],
   "source": [
    "df.VernacularNameCategory.value_counts(normalize=True)"
   ]
  },
  {
   "cell_type": "code",
   "execution_count": null,
   "metadata": {},
   "outputs": [],
   "source": [
    "# values = df.VernacularNameCategory.value_counts(normalize=True).values.tolist()\n",
    "\n",
    "# value_list = [value for value in values if value < 0.01]\n",
    "\n",
    "# value_first_index = values.index(value_list[0])\n",
    "\n",
    "category_counts = df.VernacularNameCategory.value_counts().values.tolist()[:value_first_index]\n",
    "category_names = df.VernacularNameCategory.value_counts().index.tolist()[:value_first_index]"
   ]
  },
  {
   "cell_type": "code",
   "execution_count": null,
   "metadata": {},
   "outputs": [],
   "source": [
    "fig = go.Figure(data=[go.Pie(labels=category_names, values=category_counts)])\n",
    "fig.show()"
   ]
  },
  {
   "cell_type": "code",
   "execution_count": null,
   "metadata": {},
   "outputs": [],
   "source": [
    "fig.__dict__.keys()"
   ]
  },
  {
   "cell_type": "code",
   "execution_count": null,
   "metadata": {},
   "outputs": [],
   "source": [
    "fig._layout['template']"
   ]
  },
  {
   "cell_type": "code",
   "execution_count": null,
   "metadata": {},
   "outputs": [],
   "source": [
    "fig = go.Figure(data=go.Scattergeo(\n",
    "        lon = df.longitude,\n",
    "        lat = df.latitude,\n",
    "        text = df.VernacularNameCategory,\n",
    "        mode = 'markers',\n",
    "        marker = dict(color=list(range(len(df.VernacularNameCategory)))),\n",
    "        ))\n",
    "\n",
    "fig.update_layout(\n",
    "        title = 'Coral Reef Diversity in The World',\n",
    "        geo_scope='world',\n",
    "    )\n",
    "fig.show()"
   ]
  },
  {
   "cell_type": "code",
   "execution_count": null,
   "metadata": {},
   "outputs": [],
   "source": [
    "iris = px.data.iris()"
   ]
  },
  {
   "cell_type": "code",
   "execution_count": null,
   "metadata": {},
   "outputs": [],
   "source": [
    "iris"
   ]
  },
  {
   "cell_type": "code",
   "execution_count": null,
   "metadata": {},
   "outputs": [],
   "source": []
  }
 ],
 "metadata": {
  "kernelspec": {
   "display_name": "nanodegree",
   "language": "python",
   "name": "nanodegree"
  },
  "language_info": {
   "codemirror_mode": {
    "name": "ipython",
    "version": 3
   },
   "file_extension": ".py",
   "mimetype": "text/x-python",
   "name": "python",
   "nbconvert_exporter": "python",
   "pygments_lexer": "ipython3",
   "version": "3.6.8"
  }
 },
 "nbformat": 4,
 "nbformat_minor": 2
}
